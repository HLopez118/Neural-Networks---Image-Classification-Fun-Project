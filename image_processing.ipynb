{
 "cells": [
  {
   "cell_type": "code",
   "execution_count": 3,
   "metadata": {
    "collapsed": true
   },
   "outputs": [],
   "source": [
    "import numpy as np\n",
    "from numpy import asarray\n",
    "from numpy import savetxt\n",
    "import matplotlib.pyplot as plt\n",
    "import h5py\n",
    "import scipy\n",
    "from PIL import Image\n",
    "from scipy import ndimage\n",
    "from PIL import Image\n",
    "import glob\n",
    "\n",
    "%matplotlib inline"
   ]
  },
  {
   "cell_type": "code",
   "execution_count": 4,
   "metadata": {
    "scrolled": true
   },
   "outputs": [
    {
     "name": "stdout",
     "output_type": "stream",
     "text": [
      "train_set_x shape = (49152L, 498L)\n",
      "train_set_y shape = (1L, 498L)\n",
      "test_set_x shape = (49152L, 500L)\n",
      "test_set_y shape = (1L, 500L)\n"
     ]
    }
   ],
   "source": [
    "image_list = []\n",
    "im_dim = 128\n",
    "\n",
    "\n",
    "## Load train data == 1 from directory\n",
    "trainset_x_1 = np.array([], dtype=np.double).reshape(3*im_dim**2,0)\n",
    "\n",
    "for filename in glob.glob('C:/Users/HorLo/Documents/Machine Learning/hot-dog-not-hot-dog/seefood/train/hot_dog/*.jpg'): #assuming gif\n",
    "    im=Image.open(filename)\n",
    "    #image_list.append(im)\n",
    "    \n",
    "    ##resize images and flatten\n",
    "    new_image=im.resize((im_dim,im_dim))\n",
    "    new_image.save('image_1.jpg')\n",
    "    im1 = 'image_1.jpg'\n",
    "    im2 = ndimage.imread(im1, flatten=False)\n",
    "    im_flatten = im2.reshape((im2.shape[0])*im_dim*3,1)\n",
    "    trainset_x_1 = np.concatenate((trainset_x_1,im_flatten), axis = 1)\n",
    "\n",
    "trainset_y_1 = np.ones((1,trainset_x_1[0,:].size))\n",
    "\n",
    "\n",
    "## Load train data == 0 from directory\n",
    "trainset_x_0 = np.array([], dtype=np.double).reshape(3*im_dim**2,0)\n",
    "\n",
    "for filename in glob.glob('C:/Users/HorLo/Documents/Machine Learning/hot-dog-not-hot-dog/seefood/train/not_hot_dog/*.jpg'): #assuming gif\n",
    "    im=Image.open(filename)\n",
    "    #image_list.append(im)\n",
    "    \n",
    "    ##resize images and flatten\n",
    "    new_image=im.resize((im_dim,im_dim))\n",
    "    new_image.save('image_1.jpg')\n",
    "    im1 = 'image_1.jpg'\n",
    "    im2 = ndimage.imread(im1, flatten=False)\n",
    "    im_flatten = im2.reshape((im2.shape[0])*im_dim*3,1)\n",
    "    trainset_x_0 = np.concatenate((trainset_x_0,im_flatten), axis = 1)\n",
    "\n",
    "trainset_y_0 = np.zeros((1,trainset_x_0[0,:].size))\n",
    "\n",
    "\n",
    "##combine image data into X & Y training sets\n",
    "train_set_x = np.concatenate((trainset_x_0,trainset_x_1), axis = 1)\n",
    "train_set_y = np.concatenate((trainset_y_0,trainset_y_1), axis = 1)\n",
    "\n",
    "print(\"train_set_x shape = \" + str(train_set_x.shape))\n",
    "print(\"train_set_y shape = \" + str(train_set_y.shape))\n",
    "\n",
    "savetxt('seefood_train_x.csv', train_set_x, delimiter=',')\n",
    "savetxt('seefood_train_y.csv', train_set_y, delimiter=',')\n",
    "\n",
    "\n",
    "## Load test data == 1 from directory\n",
    "testset_x_1 = np.array([], dtype=np.double).reshape(3*im_dim**2,0)\n",
    "\n",
    "for filename in glob.glob('C:/Users/HorLo/Documents/Machine Learning/hot-dog-not-hot-dog/seefood/test/hot_dog/*.jpg'): #assuming gif\n",
    "    im=Image.open(filename)\n",
    "    #image_list.append(im)\n",
    "    \n",
    "    ##resize images and flatten\n",
    "    new_image=im.resize((im_dim,im_dim))\n",
    "    new_image.save('image_1.jpg')\n",
    "    im1 = 'image_1.jpg'\n",
    "    im2 = ndimage.imread(im1, flatten=False)\n",
    "    im_flatten = im2.reshape((im2.shape[0])*im_dim*3,1)\n",
    "    testset_x_1 = np.concatenate((testset_x_1,im_flatten), axis = 1)\n",
    "\n",
    "testset_y_1 = np.ones((1,testset_x_1[0,:].size))\n",
    "\n",
    "\n",
    "## Load test data == 0 from directory\n",
    "testset_x_0 = np.array([], dtype=np.double).reshape(3*im_dim**2,0)\n",
    "\n",
    "for filename in glob.glob('C:/Users/HorLo/Documents/Machine Learning/hot-dog-not-hot-dog/seefood/test/not_hot_dog/*.jpg'): #assuming gif\n",
    "    im=Image.open(filename)\n",
    "    #image_list.append(im)\n",
    "    \n",
    "    ##resize images and flatten\n",
    "    new_image=im.resize((im_dim,im_dim))\n",
    "    new_image.save('image_1.jpg')\n",
    "    im1 = 'image_1.jpg'\n",
    "    im2 = ndimage.imread(im1, flatten=False)\n",
    "    im_flatten = im2.reshape((im2.shape[0])*im_dim*3,1)\n",
    "    testset_x_0 = np.concatenate((testset_x_0,im_flatten), axis = 1)\n",
    "\n",
    "testset_y_0 = np.zeros((1,testset_x_0[0,:].size))\n",
    "\n",
    "\n",
    "##combine image data into X & Y testing sets\n",
    "test_set_x = np.concatenate((testset_x_0,testset_x_1), axis = 1)\n",
    "test_set_y = np.concatenate((testset_y_0,testset_y_1), axis = 1)\n",
    "\n",
    "print(\"test_set_x shape = \" + str(test_set_x.shape))\n",
    "print(\"test_set_y shape = \" + str(test_set_y.shape))\n",
    "\n",
    "savetxt('seefood_test_x.csv', test_set_x, delimiter=',')\n",
    "savetxt('seefood_test_y.csv', test_set_y, delimiter=',')"
   ]
  },
  {
   "cell_type": "code",
   "execution_count": null,
   "metadata": {
    "collapsed": true
   },
   "outputs": [],
   "source": []
  },
  {
   "cell_type": "code",
   "execution_count": null,
   "metadata": {
    "collapsed": true
   },
   "outputs": [],
   "source": []
  }
 ],
 "metadata": {
  "kernelspec": {
   "display_name": "Python 2",
   "language": "python",
   "name": "python2"
  },
  "language_info": {
   "codemirror_mode": {
    "name": "ipython",
    "version": 2
   },
   "file_extension": ".py",
   "mimetype": "text/x-python",
   "name": "python",
   "nbconvert_exporter": "python",
   "pygments_lexer": "ipython2",
   "version": "2.7.14"
  }
 },
 "nbformat": 4,
 "nbformat_minor": 2
}
