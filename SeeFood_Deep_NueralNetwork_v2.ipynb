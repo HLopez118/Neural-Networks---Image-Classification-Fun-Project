{
 "cells": [
  {
   "cell_type": "markdown",
   "metadata": {},
   "source": [
    "# Deep Nueral Network for Binary Classification for HotDog or Not-HotDog"
   ]
  },
  {
   "cell_type": "markdown",
   "metadata": {},
   "source": [
    "In this code we implement a Deep Nueral network with $ReLu$ activation functions for all hidden layers and $Sigmoid ~ (\\sigma(Z))$ activation function for the output layer. "
   ]
  },
  {
   "cell_type": "code",
   "execution_count": 1,
   "metadata": {},
   "outputs": [],
   "source": [
    "import time\n",
    "import numpy as np\n",
    "from numpy import loadtxt\n",
    "import h5py\n",
    "import matplotlib.pyplot as plt\n",
    "import scipy\n",
    "from PIL import Image\n",
    "from scipy import ndimage\n",
    "from dnn_helper_func import *  ##dnn_helper_func.py contains all functions needed to run and iterate the nueral network\n",
    "\n",
    "%matplotlib inline\n",
    "plt.rcParams['figure.figsize'] = (5.0, 4.0) # set default size of plots\n",
    "plt.rcParams['image.interpolation'] = 'nearest'\n",
    "plt.rcParams['image.cmap'] = 'gray'\n",
    "\n",
    "#np.random.seed(1)"
   ]
  },
  {
   "cell_type": "code",
   "execution_count": 10,
   "metadata": {},
   "outputs": [
    {
     "name": "stdout",
     "output_type": "stream",
     "text": [
      "train_set_x shape = (12288, 748)\n",
      "train_set_y shape = (1, 748)\n",
      "test_set_x shape = (12288, 250)\n",
      "test_set_y shape = (1, 250)\n"
     ]
    }
   ],
   "source": [
    "##load data sets\n",
    "num_px = 64  ##Images are 64x64 \n",
    "\n",
    "train_set_x_flatten = loadtxt('seefood_train_x.csv', delimiter=',')\n",
    "train_set_y_flatten = loadtxt('seefood_train_y.csv', delimiter=',')\n",
    "train_set_y         = train_set_y_flatten.reshape(1,train_set_y_flatten.size)\n",
    "\n",
    "test_set_x_flatten  = loadtxt('seefood_test_x.csv', delimiter=',')\n",
    "test_set_y_flatten  = loadtxt('seefood_test_y.csv', delimiter=',')\n",
    "test_set_y          = test_set_y_flatten.reshape(1,test_set_y_flatten.size)\n",
    "\n",
    "train_set_x = train_set_x_flatten/255.\n",
    "test_set_x  = test_set_x_flatten/255.\n",
    "\n",
    "print(\"train_set_x shape = \" + str(train_set_x.shape))\n",
    "print(\"train_set_y shape = \" + str(train_set_y.shape))\n",
    "print(\"test_set_x shape = \" + str(test_set_x.shape))\n",
    "print(\"test_set_y shape = \" + str(test_set_y.shape))"
   ]
  },
  {
   "cell_type": "code",
   "execution_count": 11,
   "metadata": {},
   "outputs": [],
   "source": [
    "### CONSTANTS ###\n",
    "layers_dims = [12288, 20, 10, 3, 1] #  4-layer model"
   ]
  },
  {
   "cell_type": "code",
   "execution_count": 17,
   "metadata": {},
   "outputs": [],
   "source": [
    "def L_layer_model(X, Y, layers_dims, learning_rate = 0.01, num_iterations = 3000, print_cost=False):#lr was 0.009\n",
    "    \"\"\"\n",
    "    Implements a L-layer neural network: [LINEAR->RELU]*(L-1)->LINEAR->SIGMOID.\n",
    "    \n",
    "    Arguments:\n",
    "    X -- data, numpy array of shape (num_px * num_px * 3, number of examples)\n",
    "    Y -- true \"label\" vector (containing 0 if cat, 1 if non-cat), of shape (1, number of examples)\n",
    "    layers_dims -- list containing the input size and each layer size, of length (number of layers + 1).\n",
    "    learning_rate -- learning rate of the gradient descent update rule\n",
    "    num_iterations -- number of iterations of the optimization loop\n",
    "    print_cost -- if True, it prints the cost every 100 steps\n",
    "    \n",
    "    Returns:\n",
    "    parameters -- parameters learnt by the model. They can then be used to predict.\n",
    "    \"\"\"\n",
    "\n",
    "    #np.random.seed(1)\n",
    "    costs = []                         # keep track of cost\n",
    "    \n",
    "    # Parameters initialization.\n",
    "    parameters = initialize_parameters_deep(layers_dims)\n",
    "    \n",
    "    # Loop (gradient descent)\n",
    "    for i in range(0, num_iterations):\n",
    "\n",
    "        # Forward propagation: [LINEAR -> RELU]*(L-1) -> LINEAR -> SIGMOID.\n",
    "        AL, caches = L_model_forward(X, parameters)\n",
    "        \n",
    "        # Compute cost.\n",
    "        cost = compute_cost(AL, Y)\n",
    "        \n",
    "        #Break statement to prevent overfitting. \n",
    "        if cost < 0.1:\n",
    "            break\n",
    "        \n",
    "        # Backward propagation.\n",
    "        grads = L_model_backward(AL, Y, caches)\n",
    " \n",
    "        # Update parameters.\n",
    "        parameters = update_parameters(parameters, grads, learning_rate)\n",
    "                \n",
    "        # Print the cost every 100 training example\n",
    "        if print_cost and i % 100 == 0:\n",
    "            print (\"Cost after iteration %i: %f\" %(i, cost))\n",
    "        if print_cost and i % 100 == 0:\n",
    "            costs.append(cost)\n",
    "            \n",
    "    # plot the cost\n",
    "    plt.plot(np.squeeze(costs))\n",
    "    plt.ylabel('cost')\n",
    "    plt.xlabel('iterations (per hundreds)')\n",
    "    plt.title(\"Learning rate =\" + str(learning_rate))\n",
    "    plt.show()\n",
    "    \n",
    "    return parameters"
   ]
  },
  {
   "cell_type": "code",
   "execution_count": 16,
   "metadata": {},
   "outputs": [
    {
     "name": "stdout",
     "output_type": "stream",
     "text": [
      "Cost after iteration 0: 0.696376\n",
      "Cost after iteration 100: 0.691647\n",
      "Cost after iteration 200: 0.689590\n",
      "Cost after iteration 300: 0.687012\n",
      "Cost after iteration 400: 0.682058\n",
      "Cost after iteration 500: 0.672089\n",
      "Cost after iteration 600: 0.658885\n",
      "Cost after iteration 700: 0.642683\n",
      "Cost after iteration 800: 0.625683\n",
      "Cost after iteration 900: 0.608508\n",
      "Cost after iteration 1000: 0.589492\n",
      "Cost after iteration 1100: 0.610350\n",
      "Cost after iteration 1200: 0.643232\n",
      "Cost after iteration 1300: 0.554464\n",
      "Cost after iteration 1400: 0.471912\n",
      "Cost after iteration 1500: 0.538108\n",
      "Cost after iteration 1600: 0.426342\n",
      "Cost after iteration 1700: 0.508069\n",
      "Cost after iteration 1800: 0.596702\n",
      "Cost after iteration 1900: 0.372826\n",
      "Cost after iteration 2000: 0.377022\n",
      "Cost after iteration 2100: 0.303446\n",
      "Cost after iteration 2200: 0.341129\n",
      "Cost after iteration 2300: 0.242489\n",
      "Cost after iteration 2400: 0.268140\n",
      "Cost after iteration 2500: 0.462694\n",
      "Cost after iteration 2600: 0.464554\n",
      "Cost after iteration 2700: 0.204308\n",
      "Cost after iteration 2800: 0.319656\n",
      "Cost after iteration 2900: 0.108566\n",
      "Cost after iteration 3000: 0.103277\n"
     ]
    },
    {
     "data": {
      "image/png": "[encoded data removed]",
      "text/plain": [
       "<Figure size 360x288 with 1 Axes>"
      ]
     },
     "metadata": {
      "needs_background": "light"
     },
     "output_type": "display_data"
    }
   ],
   "source": [
    "parameters = L_layer_model(train_set_x, train_set_y, layers_dims, num_iterations = 6000, print_cost = True)"
   ]
  },
  {
   "cell_type": "code",
   "execution_count": 18,
   "metadata": {},
   "outputs": [],
   "source": [
    "def predict(X, y, parameters):\n",
    "    \"\"\"\n",
    "    This function is used to predict the results of a  L-layer neural network.\n",
    "    \n",
    "    Arguments:\n",
    "    X -- data set of examples you would like to label\n",
    "    parameters -- parameters of the trained model\n",
    "    \n",
    "    Returns:\n",
    "    p -- predictions for the given dataset X\n",
    "    \"\"\"\n",
    "    \n",
    "    m = X.shape[1]\n",
    "    n = len(parameters) // 2 # number of layers in the neural network\n",
    "    p = np.zeros((1,m))\n",
    "    \n",
    "    # Forward propagation\n",
    "    probas, caches = L_model_forward(X, parameters)\n",
    "\n",
    "    \n",
    "    # convert probas to 0/1 predictions\n",
    "    for i in range(0, probas.shape[1]):\n",
    "        if probas[0,i] > 0.5:\n",
    "            p[0,i] = 1\n",
    "        else:\n",
    "            p[0,i] = 0\n",
    "    \n",
    "    #print results\n",
    "    #print (\"predictions: \" + str(p))\n",
    "    #print (\"true labels: \" + str(y))\n",
    "    print(\"Accuracy: \"  + str((np.sum((p == y)/m))*100) + \"%\")\n",
    "        \n",
    "    return p"
   ]
  },
  {
   "cell_type": "code",
   "execution_count": 19,
   "metadata": {},
   "outputs": [
    {
     "name": "stdout",
     "output_type": "stream",
     "text": [
      "Accuracy: 98.66310160427807%\n"
     ]
    }
   ],
   "source": [
    "pred_train = predict(train_set_x, train_set_y, parameters)"
   ]
  },
  {
   "cell_type": "code",
   "execution_count": 20,
   "metadata": {},
   "outputs": [
    {
     "name": "stdout",
     "output_type": "stream",
     "text": [
      "Accuracy: 55.60000000000001%\n"
     ]
    }
   ],
   "source": [
    "pred_test = predict(test_set_x, test_set_y, parameters)"
   ]
  },
  {
   "cell_type": "markdown",
   "metadata": {},
   "source": [
    "The system is prone to overfitting to the data and does not perform well with test data. "
   ]
  },
  {
   "cell_type": "code",
   "execution_count": null,
   "metadata": {},
   "outputs": [],
   "source": []
  }
 ],
 "metadata": {
  "kernelspec": {
   "display_name": "Python 3",
   "language": "python",
   "name": "python3"
  },
  "language_info": {
   "codemirror_mode": {
    "name": "ipython",
    "version": 3
   },
   "file_extension": ".py",
   "mimetype": "text/x-python",
   "name": "python",
   "nbconvert_exporter": "python",
   "pygments_lexer": "ipython3",
   "version": "3.7.6"
  }
 },
 "nbformat": 4,
 "nbformat_minor": 4
}
